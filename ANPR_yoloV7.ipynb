{
 "cells": [
  {
   "cell_type": "markdown",
   "metadata": {},
   "source": [
    "## Install the requirements"
   ]
  },
  {
   "cell_type": "code",
   "execution_count": 2,
   "metadata": {},
   "outputs": [
    {
     "name": "stdout",
     "output_type": "stream",
     "text": [
      "/home/kshitij/ANPR_yoloV7/yolov7\n"
     ]
    }
   ],
   "source": [
    "# !git clone https://github.com/WongKinYiu/yolov7\n",
    "%cd yolov7"
   ]
  },
  {
   "cell_type": "code",
   "execution_count": null,
   "metadata": {},
   "outputs": [],
   "source": [
    "%pip install -U -r requirements.txt"
   ]
  },
  {
   "cell_type": "code",
   "execution_count": 5,
   "metadata": {},
   "outputs": [
    {
     "name": "stdout",
     "output_type": "stream",
     "text": [
      "/home/kshitij/ANPR_yoloV7/yolov7\n"
     ]
    }
   ],
   "source": [
    "import os\n",
    "print(os.getcwd())"
   ]
  },
  {
   "cell_type": "code",
   "execution_count": null,
   "metadata": {},
   "outputs": [],
   "source": [
    "!wget https://github.com/WongKinYiu/yolov7/releases/download/v0.1/yolov7-e6.pt"
   ]
  },
  {
   "cell_type": "markdown",
   "metadata": {},
   "source": [
    "## Updating dataset labels to match the model's output (0 to 2 for car in YOLO models)"
   ]
  },
  {
   "cell_type": "code",
   "execution_count": null,
   "metadata": {},
   "outputs": [],
   "source": [
    "import os\n",
    "\n",
    "\n",
    "def update_labels(directory_path):\n",
    "    for filename in os.listdir(directory_path):\n",
    "        if filename.endswith(\".txt\"):\n",
    "            file_path = os.path.join(directory_path, filename)\n",
    "            with open(file_path, \"r\") as file:\n",
    "                lines = file.readlines()\n",
    "\n",
    "            updated_lines = [line.replace('0 ', '2 ') for line in lines]\n",
    "\n",
    "            with open(file_path, \"w\") as file:\n",
    "                file.writelines(updated_lines)\n",
    "\n",
    "            print(f\"Updated labels in: {file_path}\")\n",
    "\n",
    "\n",
    "update_labels(\"../dataset/train/labels\")\n",
    "\n",
    "update_labels(\"../dataset/val/labels\")"
   ]
  },
  {
   "cell_type": "markdown",
   "metadata": {},
   "source": [
    "## With Images"
   ]
  },
  {
   "cell_type": "code",
   "execution_count": null,
   "metadata": {},
   "outputs": [],
   "source": [
    "\n",
    "!python ./detect.py --weights yolov7-e6.pt --img 640 --conf 0.25 --classes 2 3 5 7 --source ../dataset/train/images --project runs/detect --name detect_train --exist-ok "
   ]
  },
  {
   "cell_type": "markdown",
   "metadata": {},
   "source": [
    "## With Videos"
   ]
  },
  {
   "cell_type": "code",
   "execution_count": null,
   "metadata": {},
   "outputs": [],
   "source": [
    "\n",
    "!python ./detect.py --weights yolov7-e6.pt --source ../market-square.mp4 --conf 0.25 --classes 0 2 3 5 7 --project runs/detectvid --name detect_video --exist-ok "
   ]
  },
  {
   "cell_type": "markdown",
   "metadata": {},
   "source": [
    "## Metrics(yolov7-e6)"
   ]
  },
  {
   "cell_type": "code",
   "execution_count": 3,
   "metadata": {},
   "outputs": [
    {
     "name": "stdout",
     "output_type": "stream",
     "text": [
      "Namespace(weights=['yolov7-e6.pt'], data='./data/coco.yaml', batch_size=32, img_size=640, conf_thres=0.5, iou_thres=0.65, task='val', device='', single_cls=False, augment=False, verbose=False, save_txt=False, save_hybrid=False, save_conf=False, save_json=True, project='runs/test', name='exp', exist_ok=False, no_trace=False, v5_metric=False)\n",
      "YOLOR 🚀 82af9cd torch 2.1.0+cu121 CPU\n",
      "\n",
      "Fusing layers... \n",
      "/home/kshitij/common/lib/python3.11/site-packages/torch/functional.py:504: UserWarning: torch.meshgrid: in an upcoming release, it will be required to pass the indexing argument. (Triggered internally at ../aten/src/ATen/native/TensorShape.cpp:3526.)\n",
      "  return _VF.meshgrid(tensors, **kwargs)  # type: ignore[attr-defined]\n",
      "Model Summary: 473 layers, 97202940 parameters, 97202940 gradients, 128.6 GFLOPS\n",
      " Convert model to Traced-model... \n",
      "/home/kshitij/common/lib/python3.11/site-packages/torch/nn/modules/module.py:844: UserWarning: The .grad attribute of a Tensor that is not a leaf Tensor is being accessed. Its .grad attribute won't be populated during autograd.backward(). If you indeed want the .grad field to be populated for a non-leaf Tensor, use .retain_grad() on the non-leaf Tensor. If you access the non-leaf Tensor by mistake, make sure you access the leaf Tensor instead. See github.com/pytorch/pytorch/pull/30531 for more informations. (Triggered internally at aten/src/ATen/core/TensorBody.h:489.)\n",
      "  if param.grad is not None:\n",
      " traced_script_module saved! \n",
      " model is traced! \n",
      "\n",
      "\u001b[34m\u001b[1mval: \u001b[0mScanning '../dataset/train/labels' images and labels... 399 found, 0 missin\u001b[0m\n",
      "\u001b[34m\u001b[1mval: \u001b[0mNew cache created: ../dataset/train/labels.cache\n",
      "               Class      Images      Labels           P           R      mAP@.5\n",
      "                 all         399        3788       0.907       0.869       0.849       0.376\n",
      "Speed: 656.6/1.1/657.8 ms inference/NMS/total per 640x640 image at batch-size 32\n",
      "\n",
      "Evaluating pycocotools mAP... saving runs/test/exp2/yolov7-e6_predictions.json...\n",
      "pycocotools unable to run: No module named 'pycocotools'\n",
      "/home/kshitij/common/lib/python3.11/site-packages/torch/nn/modules/module.py:844: UserWarning: The .grad attribute of a Tensor that is not a leaf Tensor is being accessed. Its .grad attribute won't be populated during autograd.backward(). If you indeed want the .grad field to be populated for a non-leaf Tensor, use .retain_grad() on the non-leaf Tensor. If you access the non-leaf Tensor by mistake, make sure you access the leaf Tensor instead. See github.com/pytorch/pytorch/pull/30531 for more informations. (Triggered internally at aten/src/ATen/core/TensorBody.h:489.)\n",
      "  if param.grad is not None:\n",
      "Results saved to runs/test/exp2\n"
     ]
    }
   ],
   "source": [
    "!python ./test.py --weights yolov7-e6.pt --data /data/coco.yaml --img 640 --conf-thres 0.5"
   ]
  }
 ],
 "metadata": {
  "kernelspec": {
   "display_name": "common",
   "language": "python",
   "name": "python3"
  },
  "language_info": {
   "codemirror_mode": {
    "name": "ipython",
    "version": 3
   },
   "file_extension": ".py",
   "mimetype": "text/x-python",
   "name": "python",
   "nbconvert_exporter": "python",
   "pygments_lexer": "ipython3",
   "version": "3.11.6"
  }
 },
 "nbformat": 4,
 "nbformat_minor": 2
}
